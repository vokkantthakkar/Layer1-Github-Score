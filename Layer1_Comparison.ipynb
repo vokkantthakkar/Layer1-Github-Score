{
  "nbformat": 4,
  "nbformat_minor": 0,
  "metadata": {
    "colab": {
      "name": "Layer1_Comparison.ipynb",
      "provenance": [],
      "authorship_tag": "ABX9TyMSuHEPbcxmIg9SDlBHHo67"
    },
    "kernelspec": {
      "name": "python3",
      "display_name": "Python 3"
    }
  },
  "cells": [
    {
      "cell_type": "code",
      "metadata": {
        "colab": {
          "base_uri": "https://localhost:8080/"
        },
        "id": "-_OquOl-v2Lm",
        "outputId": "0cc282f4-5ea6-4634-dfe4-b256c0b60d13"
      },
      "source": [
        "pip install PyGithub requests"
      ],
      "execution_count": 1,
      "outputs": [
        {
          "output_type": "stream",
          "text": [
            "Collecting PyGithub\n",
            "\u001b[?25l  Downloading https://files.pythonhosted.org/packages/18/44/df78514f2b5f5abaec330596e0fa3273824238399a964d1a7e82fd39990d/PyGithub-1.54.1-py3-none-any.whl (289kB)\n",
            "\u001b[K     |████████████████████████████████| 296kB 4.2MB/s \n",
            "\u001b[?25hRequirement already satisfied: requests in /usr/local/lib/python3.6/dist-packages (2.23.0)\n",
            "Collecting deprecated\n",
            "  Downloading https://files.pythonhosted.org/packages/d4/56/7d4774533d2c119e1873993d34d313c9c9efc88c5e4ab7e33bdf915ad98c/Deprecated-1.2.11-py2.py3-none-any.whl\n",
            "Collecting pyjwt<2.0\n",
            "  Downloading https://files.pythonhosted.org/packages/87/8b/6a9f14b5f781697e51259d81657e6048fd31a113229cf346880bb7545565/PyJWT-1.7.1-py2.py3-none-any.whl\n",
            "Requirement already satisfied: idna<3,>=2.5 in /usr/local/lib/python3.6/dist-packages (from requests) (2.10)\n",
            "Requirement already satisfied: urllib3!=1.25.0,!=1.25.1,<1.26,>=1.21.1 in /usr/local/lib/python3.6/dist-packages (from requests) (1.24.3)\n",
            "Requirement already satisfied: certifi>=2017.4.17 in /usr/local/lib/python3.6/dist-packages (from requests) (2020.12.5)\n",
            "Requirement already satisfied: chardet<4,>=3.0.2 in /usr/local/lib/python3.6/dist-packages (from requests) (3.0.4)\n",
            "Requirement already satisfied: wrapt<2,>=1.10 in /usr/local/lib/python3.6/dist-packages (from deprecated->PyGithub) (1.12.1)\n",
            "Installing collected packages: deprecated, pyjwt, PyGithub\n",
            "Successfully installed PyGithub-1.54.1 deprecated-1.2.11 pyjwt-1.7.1\n"
          ],
          "name": "stdout"
        }
      ]
    },
    {
      "cell_type": "markdown",
      "metadata": {
        "id": "YFo3GK0pdfVM"
      },
      "source": [
        "Import Statements"
      ]
    },
    {
      "cell_type": "code",
      "metadata": {
        "id": "c5_CEZZSHzlQ"
      },
      "source": [
        "from github import Github\r\n",
        "import os\r\n",
        "from pprint import pprint\r\n",
        "import datetime\r\n",
        "import matplotlib.pyplot as plt\r\n",
        "\r\n",
        "token = os.getenv('9eaf683dd496a7772f6842ca0aa00d52ebbb46cf')\r\n",
        "g = Github(token)"
      ],
      "execution_count": 2,
      "outputs": []
    },
    {
      "cell_type": "markdown",
      "metadata": {
        "id": "dK3NN1HtdV-S"
      },
      "source": [
        "No of Commits and Contributors for Ethereum"
      ]
    },
    {
      "cell_type": "code",
      "metadata": {
        "colab": {
          "base_uri": "https://localhost:8080/"
        },
        "id": "ui6s7-u4Y4Na",
        "outputId": "ff75c313-9c26-4b5c-98fa-8501028cb800"
      },
      "source": [
        "repoeth = g.get_repo(\"ethereum/go-ethereum\")\r\n",
        "commitseth = repoeth.get_commits()\r\n",
        "contrieth = repoeth.get_contributors()\r\n",
        "print(commitseth.totalCount)\r\n",
        "print(contrieth.totalCount)"
      ],
      "execution_count": 13,
      "outputs": [
        {
          "output_type": "stream",
          "text": [
            "12263\n",
            "418\n"
          ],
          "name": "stdout"
        }
      ]
    },
    {
      "cell_type": "markdown",
      "metadata": {
        "id": "QCeWAuLnfuqJ"
      },
      "source": [
        "No of Commits and Contributors for Cardano\r\n"
      ]
    },
    {
      "cell_type": "code",
      "metadata": {
        "colab": {
          "base_uri": "https://localhost:8080/"
        },
        "id": "qGGc4D5hfzPm",
        "outputId": "86f2b6ac-8941-47f3-e11b-9b514364f0a8"
      },
      "source": [
        "repoCardanoPlutus = g.get_repo(\"input-output-hk/plutus\")\r\n",
        "commitCardanoPlutus = repoCardanoPlutus.get_commits()\r\n",
        "contriCardanoPlutus = repoCardanoPlutus.get_contributors()\r\n",
        "\r\n",
        "repoCardanoNode = g.get_repo(\"input-output-hk/cardano-node\")\r\n",
        "commitCardanoNode = repoCardanoNode.get_commits()\r\n",
        "contriCardanoNode = repoCardanoNode.get_contributors()\r\n",
        "\r\n",
        "repoCardanoBase = g.get_repo(\"input-output-hk/cardano-base\")\r\n",
        "commitCardanoBase = repoCardanoBase.get_commits()\r\n",
        "contriCardanoBase = repoCardanoBase.get_contributors()\r\n",
        "\r\n",
        "repoCardanoSL = g.get_repo(\"input-output-hk/cardano-sl\")\r\n",
        "commitCardanoSL = repoCardanoSL.get_commits()\r\n",
        "contriCardanoSL = repoCardanoSL.get_contributors()\r\n",
        "\r\n",
        "print(commitCardanoPlutus.totalCount + commitCardanoNode.totalCount + commitCardanoBase.totalCount + commitCardanoSL.totalCount)\r\n",
        "print(max(contriCardanoPlutus.totalCount, contriCardanoNode.totalCount, contriCardanoBase.totalCount, contriCardanoSL.totalCount))\r\n",
        "totalCardanoContri = max(contriCardanoPlutus.totalCount, contriCardanoNode.totalCount, contriCardanoBase.totalCount, contriCardanoSL.totalCount)"
      ],
      "execution_count": 4,
      "outputs": [
        {
          "output_type": "stream",
          "text": [
            "28363\n",
            "97\n"
          ],
          "name": "stdout"
        }
      ]
    },
    {
      "cell_type": "markdown",
      "metadata": {
        "id": "y8wz959vdp7b"
      },
      "source": [
        "No of Commits and Contributors for Cosmos"
      ]
    },
    {
      "cell_type": "code",
      "metadata": {
        "id": "SqXkjMRzdvZL",
        "colab": {
          "base_uri": "https://localhost:8080/"
        },
        "outputId": "80fbad23-731a-4ae8-8185-9fc748a0573a"
      },
      "source": [
        "repocosmos = g.get_repo(\"cosmos/cosmos-sdk\")\r\n",
        "commitscosmos = repocosmos.get_commits()\r\n",
        "contricosmos = repocosmos.get_contributors()\r\n",
        "\r\n",
        "repoCosmosEthermint = g.get_repo(\"cosmos/ethermint\")\r\n",
        "commitCosmosEthermint = repoCosmosEthermint.get_commits()\r\n",
        "contriCosmosEthermint = repoCosmosEthermint.get_contributors()\r\n",
        "\r\n",
        "repoCosmosTendermint = g.get_repo(\"tendermint/tendermint\")\r\n",
        "commitCosmosTendermint = repoCosmosTendermint.get_commits()\r\n",
        "contriCosmosTendermint = repoCosmosTendermint.get_contributors()\r\n",
        "\r\n",
        "print(commitscosmos.totalCount + commitCosmosEthermint.totalCount + commitCosmosTendermint.totalCount )\r\n",
        "print(max(contricosmos.totalCount, contriCosmosEthermint.totalCount,contriCosmosTendermint.totalCount))\r\n",
        "totalCosmosContri = max(contricosmos.totalCount, contriCosmosEthermint.totalCount,contriCosmosTendermint.totalCount)"
      ],
      "execution_count": 5,
      "outputs": [
        {
          "output_type": "stream",
          "text": [
            "16792\n",
            "203\n"
          ],
          "name": "stdout"
        }
      ]
    },
    {
      "cell_type": "markdown",
      "metadata": {
        "id": "aNJYRNNZOKMw"
      },
      "source": [
        "No of Commits and Contributors for PolkaDot\r\n"
      ]
    },
    {
      "cell_type": "code",
      "metadata": {
        "id": "iuLNlIY0PgGA",
        "colab": {
          "base_uri": "https://localhost:8080/"
        },
        "outputId": "3cb353d3-7c1c-4cb6-bc8e-fbf255a1eae1"
      },
      "source": [
        "repoPolkadotSubstrate = g.get_repo(\"paritytech/substrate\")\r\n",
        "commitPolkadotSubstrate = repoPolkadotSubstrate.get_commits()\r\n",
        "contriPolkadotSubstrate = repoPolkadotSubstrate.get_contributors()\r\n",
        "\r\n",
        "repoPolkadot = g.get_repo(\"paritytech/polkadot\")\r\n",
        "commitPolkadot = repoPolkadot.get_commits()\r\n",
        "contriPolkadot = repoPolkadot.get_contributors()\r\n",
        "\r\n",
        "print(commitPolkadotSubstrate.totalCount + commitPolkadot.totalCount)\r\n",
        "print(max(contriPolkadotSubstrate.totalCount,contriPolkadot.totalCount))\r\n",
        "totalPolkadotContri = max(contriPolkadotSubstrate.totalCount,contriPolkadot.totalCount)"
      ],
      "execution_count": 6,
      "outputs": [
        {
          "output_type": "stream",
          "text": [
            "6451\n",
            "210\n"
          ],
          "name": "stdout"
        }
      ]
    },
    {
      "cell_type": "markdown",
      "metadata": {
        "id": "baigfB6kv91Y"
      },
      "source": [
        "No of Commits in the Last 30 days\r\n"
      ]
    },
    {
      "cell_type": "code",
      "metadata": {
        "id": "CWERSlnmwjad",
        "colab": {
          "base_uri": "https://localhost:8080/"
        },
        "outputId": "8dac5af5-31a5-48b5-c642-dbd0447b2963"
      },
      "source": [
        "t= datetime.datetime.now() - datetime.timedelta(days=30)\r\n",
        "commitseth90 = repoeth.get_commits(since=t)\r\n",
        "print(commitseth90.totalCount)\r\n",
        "commitscosmos90 = repocosmos.get_commits(since=t)\r\n",
        "print(commitscosmos90.totalCount)\r\n",
        "commitsCardano90a = repoCardanoBase.get_commits(since=t)\r\n",
        "commitsCardano90b = repoCardanoNode.get_commits(since=t)\r\n",
        "commitsCardano90c = repoCardanoPlutus.get_commits(since=t)\r\n",
        "print(commitsCardano90a.totalCount+commitsCardano90b.totalCount+commitsCardano90c.totalCount)\r\n",
        "commitsPolkadot90a = repoPolkadot.get_commits(since=t)\r\n",
        "commitsPolkadot90b = repoPolkadotSubstrate.get_commits(since=t)\r\n",
        "print(commitsPolkadot90a.totalCount + commitsPolkadot90b.totalCount)"
      ],
      "execution_count": 7,
      "outputs": [
        {
          "output_type": "stream",
          "text": [
            "75\n",
            "74\n",
            "189\n",
            "193\n"
          ],
          "name": "stdout"
        }
      ]
    },
    {
      "cell_type": "code",
      "metadata": {
        "id": "hAmxFpD90pjq",
        "colab": {
          "base_uri": "https://localhost:8080/",
          "height": 283
        },
        "outputId": "726ebdeb-1b46-4c68-acbd-73496480dba8"
      },
      "source": [
        "plt.bar(('Ethereum','Cosmos','Cardano','Polkadot'),[commitseth90.totalCount, commitscosmos90.totalCount, commitsCardano90a.totalCount+commitsCardano90b.totalCount+commitsCardano90c.totalCount, commitsPolkadot90a.totalCount + commitsPolkadot90b.totalCount])"
      ],
      "execution_count": 8,
      "outputs": [
        {
          "output_type": "execute_result",
          "data": {
            "text/plain": [
              "<BarContainer object of 4 artists>"
            ]
          },
          "metadata": {
            "tags": []
          },
          "execution_count": 8
        },
        {
          "output_type": "display_data",
          "data": {
            "image/png": "[encoded data removed]",
            "text/plain": [
              "<Figure size 432x288 with 1 Axes>"
            ]
          },
          "metadata": {
            "tags": [],
            "needs_background": "light"
          }
        }
      ]
    },
    {
      "cell_type": "markdown",
      "metadata": {
        "id": "JdDl6KxFZDBf"
      },
      "source": [
        "Contributors\r\n"
      ]
    },
    {
      "cell_type": "code",
      "metadata": {
        "id": "9_dDKwiXZHyr",
        "colab": {
          "base_uri": "https://localhost:8080/",
          "height": 282
        },
        "outputId": "dc17ca59-5561-4e7f-f977-fff7b029ed3a"
      },
      "source": [
        "plt.bar(('Ethereum','Cosmos','Cardano','Polkadot'),[contrieth.totalCount, totalCosmosContri, totalCardanoContri, totalCardanoContri])"
      ],
      "execution_count": 9,
      "outputs": [
        {
          "output_type": "execute_result",
          "data": {
            "text/plain": [
              "<BarContainer object of 4 artists>"
            ]
          },
          "metadata": {
            "tags": []
          },
          "execution_count": 9
        },
        {
          "output_type": "display_data",
          "data": {
            "image/png": "[encoded data removed]",
            "text/plain": [
              "<Figure size 432x288 with 1 Axes>"
            ]
          },
          "metadata": {
            "tags": [],
            "needs_background": "light"
          }
        }
      ]
    },
    {
      "cell_type": "markdown",
      "metadata": {
        "id": "geTL4rySg8EO"
      },
      "source": [
        "Open Issues in Repository"
      ]
    },
    {
      "cell_type": "code",
      "metadata": {
        "id": "6rzyGuLk1wHP",
        "colab": {
          "base_uri": "https://localhost:8080/",
          "height": 282
        },
        "outputId": "8aff22d0-75c1-4904-afaf-d846891d4835"
      },
      "source": [
        "issueseth = repoeth.get_issues(state=\"open\")\r\n",
        "\r\n",
        "issueCosmosa= repocosmos.get_issues(state=\"open\").totalCount\r\n",
        "issueCosmosb= repoCosmosEthermint.get_issues(state=\"open\").totalCount\r\n",
        "issueCosmosc= repoCosmosTendermint.get_issues(state=\"open\").totalCount\r\n",
        "\r\n",
        "issueCardanoa = repoCardanoBase.get_issues(state=\"open\").totalCount\r\n",
        "issueCardanob = repoCardanoNode.get_issues(state=\"open\").totalCount\r\n",
        "issueCardanoc = repoCardanoPlutus.get_issues(state=\"open\").totalCount\r\n",
        "\r\n",
        "issuePolkadota = repoPolkadot.get_issues(state=\"open\").totalCount\r\n",
        "issuePolkadotb = repoPolkadotSubstrate.get_issues(state=\"open\").totalCount\r\n",
        "\r\n",
        "plt.bar(('Ethereum','Cosmos','Cardano','Polkadot'),[issueseth.totalCount, issueCosmosa + issueCosmosb+ issueCosmosc, issueCardanoa + issueCosmosb + issueCardanoc, issuePolkadota + issuePolkadotb])"
      ],
      "execution_count": 16,
      "outputs": [
        {
          "output_type": "execute_result",
          "data": {
            "text/plain": [
              "<BarContainer object of 4 artists>"
            ]
          },
          "metadata": {
            "tags": []
          },
          "execution_count": 16
        },
        {
          "output_type": "display_data",
          "data": {
            "image/png": "[encoded data removed]",
            "text/plain": [
              "<Figure size 432x288 with 1 Axes>"
            ]
          },
          "metadata": {
            "tags": [],
            "needs_background": "light"
          }
        }
      ]
    },
    {
      "cell_type": "markdown",
      "metadata": {
        "id": "Vt_W8y4lupJn"
      },
      "source": [
        "Closed Issues\r\n"
      ]
    },
    {
      "cell_type": "code",
      "metadata": {
        "colab": {
          "base_uri": "https://localhost:8080/"
        },
        "id": "Mu1-gDBauupZ",
        "outputId": "df8c53d2-3a73-4aef-c7bb-7a97b4bfedee"
      },
      "source": [
        "closeIssueEth = repoeth.get_issues(state=\"closed\").totalCount\r\n",
        "closeIssueCosmos = repoCosmosEthermint.get_issues(state=\"closed\").totalCount + repoCosmosTendermint.get_issues(state=\"closed\").totalCount + repocosmos.get_issues(state=\"closed\").totalCount\r\n",
        "closeIssueCardano = repoCardanoBase.get_issues(state=\"closed\").totalCount + repoCardanoNode.get_issues(state=\"closed\").totalCount + repoCardanoPlutus.get_issues(state=\"closed\").totalCount + repoCardanoSL.get_issues(state=\"closed\").totalCount\r\n"
      ],
      "execution_count": 18,
      "outputs": [
        {
          "output_type": "stream",
          "text": [
            "10941\n"
          ],
          "name": "stdout"
        }
      ]
    },
    {
      "cell_type": "markdown",
      "metadata": {
        "id": "YrkfCfYDrW_p"
      },
      "source": [
        "Open Pull Requests"
      ]
    },
    {
      "cell_type": "code",
      "metadata": {
        "colab": {
          "base_uri": "https://localhost:8080/",
          "height": 282
        },
        "id": "Dlq34hYdrWFU",
        "outputId": "21fc339b-93df-42b9-e1f3-d47d52c2c2d6"
      },
      "source": [
        "openPullRequestEth = repoeth.get_pulls(state=\"open\").totalCount\r\n",
        "openPullRequestCardano = repoCardanoBase.get_pulls(state=\"open\").totalCount + repoCardanoNode.get_pulls(state=\"open\").totalCount + repoCardanoPlutus.get_pulls(state=\"open\").totalCount\r\n",
        "openPullRequestCosmos = repoCosmosEthermint.get_pulls(state=\"open\").totalCount + repoCosmosTendermint.get_pulls(state=\"open\").totalCount + repocosmos.get_pulls(state=\"open\").totalCount\r\n",
        "openPullRequestPolkadot = repoPolkadot.get_pulls(state=\"open\").totalCount + repoPolkadotSubstrate.get_pulls(state=\"open\").totalCount\r\n",
        "\r\n",
        "plt.bar(('Ethereum','Cosmos','Cardano','Polkadot'),[openPullRequestEth, openPullRequestCosmos, openPullRequestCardano, openPullRequestPolkadot])"
      ],
      "execution_count": 17,
      "outputs": [
        {
          "output_type": "execute_result",
          "data": {
            "text/plain": [
              "<BarContainer object of 4 artists>"
            ]
          },
          "metadata": {
            "tags": []
          },
          "execution_count": 17
        },
        {
          "output_type": "display_data",
          "data": {
            "image/png": "[encoded data removed]",
            "text/plain": [
              "<Figure size 432x288 with 1 Axes>"
            ]
          },
          "metadata": {
            "tags": [],
            "needs_background": "light"
          }
        }
      ]
    },
    {
      "cell_type": "markdown",
      "metadata": {
        "id": "noq00n2tA3_9"
      },
      "source": [
        "Overall Score"
      ]
    },
    {
      "cell_type": "markdown",
      "metadata": {
        "id": "1i1GfpG0BAWb"
      },
      "source": [
        "Track certain wallets and "
      ]
    },
    {
      "cell_type": "code",
      "metadata": {
        "id": "VBbIDxo9A6Ls"
      },
      "source": [
        "OverallEth = 1\r\n",
        "\r\n"
      ],
      "execution_count": null,
      "outputs": []
    }
  ]
}